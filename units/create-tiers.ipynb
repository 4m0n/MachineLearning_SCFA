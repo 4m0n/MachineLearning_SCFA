{
 "cells": [
  {
   "cell_type": "code",
   "execution_count": 1,
   "id": "0dca61eb",
   "metadata": {},
   "outputs": [],
   "source": [
    "import numpy as np\n",
    "import pandas as pd\n",
    "import cv2\n",
    "import os\n",
    "import matplotlib.pyplot as plt"
   ]
  },
  {
   "cell_type": "code",
   "execution_count": 2,
   "id": "35ef0fd4",
   "metadata": {},
   "outputs": [],
   "source": [
    "def read_unit(path):\n",
    "    return cv2.imread(path, cv2.IMREAD_UNCHANGED)"
   ]
  },
  {
   "cell_type": "code",
   "execution_count": null,
   "id": "19062715",
   "metadata": {},
   "outputs": [],
   "source": [
    "def overlay_image(img, img_overlay, x, y):\n",
    "    \"\"\"Overlay `img_overlay` onto `img` at (x, y) using the alpha channels of both images.\n",
    "    Assumes both images are in BGRA format with values from 0 to 255.\"\"\"\n",
    "    # Calculate the overlapping regions\n",
    "    y1, y2 = max(0, y), min(img.shape[0], y + img_overlay.shape[0])\n",
    "    x1, x2 = max(0, x), min(img.shape[1], x + img_overlay.shape[1])\n",
    "    y1o, y2o = max(0, -y), min(img_overlay.shape[0], img.shape[0] - y)\n",
    "    x1o, x2o = max(0, -x), min(img_overlay.shape[1], img.shape[1] - x)\n",
    "\n",
    "    # If there's no overlap, return\n",
    "    if y1 >= y2 or x1 >= x2 or y1o >= y2o or x1o >= x2o:\n",
    "        return\n",
    "\n",
    "    # Extract the overlapping regions\n",
    "    img_crop = img[y1:y2, x1:x2]\n",
    "    img_overlay_crop = img_overlay[y1o:y2o, x1o:x2o]\n",
    "\n",
    "    # Extract alpha and color channels\n",
    "    alpha_base = img_crop[:, :, 3] / 255\n",
    "    alpha_overlay = img_overlay_crop[:, :, 3] / 255\n",
    "    color_base = img_crop[:, :, :3]\n",
    "    color_overlay = img_overlay_crop[:, :, :3]\n",
    "\n",
    "    # Calculate the resulting alpha\n",
    "    alpha_result = alpha_overlay + alpha_base * (1 - alpha_overlay)\n",
    "\n",
    "    # To avoid division by zero, replace zeros with a small positive value\n",
    "    alpha_result[alpha_result == 0] = 1e-6\n",
    "\n",
    "    # Blend the colors\n",
    "    color_result = (color_overlay * alpha_overlay[:, :, np.newaxis] +\n",
    "                   color_base * alpha_base[:, :, np.newaxis] * (1 - alpha_overlay[:, :, np.newaxis])) / alpha_result[:, :, np.newaxis]\n",
    "\n",
    "    # Clip the resulting color values to ensure they are within the valid range\n",
    "    color_result = np.clip(color_result, 0, 255)\n",
    "\n",
    "    # Update the base image\n",
    "    img_crop[:, :, :3] = color_result.astype(np.uint8)\n",
    "    img_crop[:, :, 3] = (alpha_result * 255).astype(np.uint8)\n"
   ]
  },
  {
   "cell_type": "code",
   "execution_count": null,
   "id": "feed4c8d",
   "metadata": {},
   "outputs": [],
   "source": [
    "def extend_tier(tier, unit):\n",
    "\n",
    "    unit_height, unit_width = unit.shape[0], unit.shape[1]\n",
    "    tier_height, tier_width = tier.shape[0], tier.shape[1]\n",
    "\n",
    "    width_start = ((unit_width - 1) // 2) - ((tier_width - 1) // 2)\n",
    "    width_end = ((unit_width + 1) // 2) + ((tier_width - 1) // 2)\n",
    "\n",
    "    height_start = unit_height - tier_height + 3\n",
    "\n",
    "    resized = np.zeros((unit_height + 3, unit_width, 4))\n",
    "    resized[height_start:, width_start:width_end, :] = tier\n",
    "\n",
    "    overlay_image(resized, unit, 0, 0)\n",
    "    \n",
    "    unit = resized\n"
   ]
  },
  {
   "cell_type": "code",
   "execution_count": 18,
   "id": "c7d4e496",
   "metadata": {},
   "outputs": [],
   "source": [
    "tier = read_unit('Units/icons/tier-3.png')\n",
    "fighter = read_unit('Units/icons/air/fighter-green.png')"
   ]
  },
  {
   "cell_type": "code",
   "execution_count": 19,
   "id": "1bc69c80",
   "metadata": {},
   "outputs": [],
   "source": [
    "tierpp = extend_tier(tier, fighter)\n",
    "fighter1 = overlay_image(tierpp, fighter, 0, 0)"
   ]
  },
  {
   "cell_type": "code",
   "execution_count": 20,
   "id": "f06e34ff",
   "metadata": {},
   "outputs": [
    {
     "name": "stderr",
     "output_type": "stream",
     "text": [
      "Clipping input data to the valid range for imshow with RGB data ([0..1] for floats or [0..255] for integers). Got range [0.0..255.0].\n"
     ]
    },
    {
     "data": {
      "text/plain": [
       "<matplotlib.image.AxesImage at 0x7f15fc191820>"
      ]
     },
     "execution_count": 20,
     "metadata": {},
     "output_type": "execute_result"
    },
    {
     "data": {
      "image/png": "[encoded data removed]",
      "text/plain": [
       "<Figure size 640x480 with 1 Axes>"
      ]
     },
     "metadata": {},
     "output_type": "display_data"
    }
   ],
   "source": [
    "plt.imshow(tierpp)"
   ]
  },
  {
   "cell_type": "code",
   "execution_count": null,
   "id": "2574f00b",
   "metadata": {},
   "outputs": [],
   "source": []
  },
  {
   "cell_type": "code",
   "execution_count": null,
   "id": "78023b92",
   "metadata": {},
   "outputs": [],
   "source": []
  }
 ],
 "metadata": {
  "kernelspec": {
   "display_name": "Python 3",
   "language": "python",
   "name": "python3"
  },
  "language_info": {
   "codemirror_mode": {
    "name": "ipython",
    "version": 3
   },
   "file_extension": ".py",
   "mimetype": "text/x-python",
   "name": "python",
   "nbconvert_exporter": "python",
   "pygments_lexer": "ipython3",
   "version": "3.12.11"
  }
 },
 "nbformat": 4,
 "nbformat_minor": 5
}
