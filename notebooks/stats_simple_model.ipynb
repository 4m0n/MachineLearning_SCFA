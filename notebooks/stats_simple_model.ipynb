{
 "cells": [
  {
   "cell_type": "code",
   "execution_count": 54,
   "id": "1f706070",
   "metadata": {},
   "outputs": [],
   "source": [
    "import sys\n",
    "from pathlib import Path\n",
    "sys.path.append(str(Path().resolve().parents[0]))\n",
    "import DataLoader\n",
    "import pandas as pd\n",
    "import numpy as np\n",
    "import matplotlib.pyplot as plt\n"
   ]
  },
  {
   "cell_type": "code",
   "execution_count": 22,
   "id": "93dfea4c",
   "metadata": {},
   "outputs": [
    {
     "data": {
      "application/vnd.microsoft.datawrangler.viewer.v0+json": {
       "columns": [
        {
         "name": "index",
         "rawType": "int64",
         "type": "integer"
        },
        {
         "name": "path",
         "rawType": "object",
         "type": "string"
        },
        {
         "name": "time",
         "rawType": "float64",
         "type": "float"
        },
        {
         "name": "power",
         "rawType": "int64",
         "type": "integer"
        },
        {
         "name": "area",
         "rawType": "int64",
         "type": "integer"
        }
       ],
       "ref": "d77ced79-518b-4348-b08e-a4f2ff89546d",
       "rows": [
        [
         "0",
         "E:\\Coding\\Python\\MachineLearning_SCFA\\data\\processed\\Session_1s_2025-09-19_14-45-02\\blue\\screenshot_20250919_144506.png",
         "9.0",
         "13",
         "0"
        ],
        [
         "1",
         "E:\\Coding\\Python\\MachineLearning_SCFA\\data\\processed\\Session_1s_2025-09-19_14-45-02\\darkblue\\screenshot_20250919_144506.png",
         "9.0",
         "16",
         "0"
        ],
        [
         "2",
         "E:\\Coding\\Python\\MachineLearning_SCFA\\data\\processed\\Session_1s_2025-09-19_14-45-02\\darkred\\screenshot_20250919_144506.png",
         "9.0",
         "9",
         "0"
        ],
        [
         "3",
         "E:\\Coding\\Python\\MachineLearning_SCFA\\data\\processed\\Session_1s_2025-09-19_14-45-02\\gray\\screenshot_20250919_144506.png",
         "9.0",
         "17",
         "0"
        ],
        [
         "4",
         "E:\\Coding\\Python\\MachineLearning_SCFA\\data\\processed\\Session_1s_2025-09-19_14-45-02\\orange\\screenshot_20250919_144506.png",
         "9.0",
         "14",
         "0"
        ],
        [
         "5",
         "E:\\Coding\\Python\\MachineLearning_SCFA\\data\\processed\\Session_1s_2025-09-19_14-45-02\\purple\\screenshot_20250919_144506.png",
         "9.0",
         "13",
         "0"
        ],
        [
         "6",
         "E:\\Coding\\Python\\MachineLearning_SCFA\\data\\processed\\Session_1s_2025-09-19_14-45-02\\red\\screenshot_20250919_144506.png",
         "9.0",
         "8",
         "0"
        ],
        [
         "7",
         "E:\\Coding\\Python\\MachineLearning_SCFA\\data\\processed\\Session_1s_2025-09-19_14-45-02\\teal\\screenshot_20250919_144506.png",
         "9.0",
         "10",
         "0"
        ],
        [
         "8",
         "E:\\Coding\\Python\\MachineLearning_SCFA\\data\\processed\\Session_1s_2025-09-19_14-45-02\\turkis\\screenshot_20250919_144506.png",
         "9.0",
         "15",
         "0"
        ],
        [
         "9",
         "E:\\Coding\\Python\\MachineLearning_SCFA\\data\\processed\\Session_1s_2025-09-19_14-45-02\\violet\\screenshot_20250919_144506.png",
         "9.0",
         "13",
         "0"
        ],
        [
         "10",
         "E:\\Coding\\Python\\MachineLearning_SCFA\\data\\processed\\Session_1s_2025-09-19_14-45-02\\white\\screenshot_20250919_144506.png",
         "9.0",
         "15",
         "0"
        ],
        [
         "11",
         "E:\\Coding\\Python\\MachineLearning_SCFA\\data\\processed\\Session_1s_2025-09-19_14-45-02\\yellow\\screenshot_20250919_144506.png",
         "9.0",
         "14",
         "0"
        ],
        [
         "12",
         "E:\\Coding\\Python\\MachineLearning_SCFA\\data\\processed\\Session_1s_2025-09-19_14-45-02\\blue\\screenshot_20250919_144507.png",
         "12.0",
         "31",
         "82"
        ],
        [
         "13",
         "E:\\Coding\\Python\\MachineLearning_SCFA\\data\\processed\\Session_1s_2025-09-19_14-45-02\\darkblue\\screenshot_20250919_144507.png",
         "12.0",
         "32",
         "100"
        ],
        [
         "14",
         "E:\\Coding\\Python\\MachineLearning_SCFA\\data\\processed\\Session_1s_2025-09-19_14-45-02\\darkred\\screenshot_20250919_144507.png",
         "12.0",
         "26",
         "44"
        ],
        [
         "15",
         "E:\\Coding\\Python\\MachineLearning_SCFA\\data\\processed\\Session_1s_2025-09-19_14-45-02\\gray\\screenshot_20250919_144507.png",
         "12.0",
         "35",
         "656"
        ],
        [
         "16",
         "E:\\Coding\\Python\\MachineLearning_SCFA\\data\\processed\\Session_1s_2025-09-19_14-45-02\\orange\\screenshot_20250919_144507.png",
         "12.0",
         "32",
         "106"
        ],
        [
         "17",
         "E:\\Coding\\Python\\MachineLearning_SCFA\\data\\processed\\Session_1s_2025-09-19_14-45-02\\purple\\screenshot_20250919_144507.png",
         "12.0",
         "30",
         "43"
        ],
        [
         "18",
         "E:\\Coding\\Python\\MachineLearning_SCFA\\data\\processed\\Session_1s_2025-09-19_14-45-02\\red\\screenshot_20250919_144507.png",
         "12.0",
         "25",
         "10"
        ],
        [
         "19",
         "E:\\Coding\\Python\\MachineLearning_SCFA\\data\\processed\\Session_1s_2025-09-19_14-45-02\\teal\\screenshot_20250919_144507.png",
         "12.0",
         "31",
         "1389"
        ],
        [
         "20",
         "E:\\Coding\\Python\\MachineLearning_SCFA\\data\\processed\\Session_1s_2025-09-19_14-45-02\\turkis\\screenshot_20250919_144507.png",
         "12.0",
         "31",
         "198"
        ],
        [
         "21",
         "E:\\Coding\\Python\\MachineLearning_SCFA\\data\\processed\\Session_1s_2025-09-19_14-45-02\\violet\\screenshot_20250919_144507.png",
         "12.0",
         "29",
         "196"
        ],
        [
         "22",
         "E:\\Coding\\Python\\MachineLearning_SCFA\\data\\processed\\Session_1s_2025-09-19_14-45-02\\white\\screenshot_20250919_144507.png",
         "12.0",
         "32",
         "683"
        ],
        [
         "23",
         "E:\\Coding\\Python\\MachineLearning_SCFA\\data\\processed\\Session_1s_2025-09-19_14-45-02\\yellow\\screenshot_20250919_144507.png",
         "12.0",
         "31",
         "1091"
        ],
        [
         "24",
         "E:\\Coding\\Python\\MachineLearning_SCFA\\data\\processed\\Session_1s_2025-09-19_14-45-02\\blue\\screenshot_20250919_144509.png",
         "16.0",
         "54",
         "39"
        ],
        [
         "25",
         "E:\\Coding\\Python\\MachineLearning_SCFA\\data\\processed\\Session_1s_2025-09-19_14-45-02\\darkblue\\screenshot_20250919_144509.png",
         "16.0",
         "55",
         "31"
        ],
        [
         "26",
         "E:\\Coding\\Python\\MachineLearning_SCFA\\data\\processed\\Session_1s_2025-09-19_14-45-02\\darkred\\screenshot_20250919_144509.png",
         "16.0",
         "49",
         "46"
        ],
        [
         "27",
         "E:\\Coding\\Python\\MachineLearning_SCFA\\data\\processed\\Session_1s_2025-09-19_14-45-02\\gray\\screenshot_20250919_144509.png",
         "16.0",
         "58",
         "341"
        ],
        [
         "28",
         "E:\\Coding\\Python\\MachineLearning_SCFA\\data\\processed\\Session_1s_2025-09-19_14-45-02\\orange\\screenshot_20250919_144509.png",
         "16.0",
         "55",
         "68"
        ],
        [
         "29",
         "E:\\Coding\\Python\\MachineLearning_SCFA\\data\\processed\\Session_1s_2025-09-19_14-45-02\\purple\\screenshot_20250919_144509.png",
         "16.0",
         "52",
         "0"
        ],
        [
         "30",
         "E:\\Coding\\Python\\MachineLearning_SCFA\\data\\processed\\Session_1s_2025-09-19_14-45-02\\red\\screenshot_20250919_144509.png",
         "16.0",
         "48",
         "0"
        ],
        [
         "31",
         "E:\\Coding\\Python\\MachineLearning_SCFA\\data\\processed\\Session_1s_2025-09-19_14-45-02\\teal\\screenshot_20250919_144509.png",
         "16.0",
         "53",
         "1286"
        ],
        [
         "32",
         "E:\\Coding\\Python\\MachineLearning_SCFA\\data\\processed\\Session_1s_2025-09-19_14-45-02\\turkis\\screenshot_20250919_144509.png",
         "16.0",
         "53",
         "146"
        ],
        [
         "33",
         "E:\\Coding\\Python\\MachineLearning_SCFA\\data\\processed\\Session_1s_2025-09-19_14-45-02\\violet\\screenshot_20250919_144509.png",
         "16.0",
         "51",
         "53"
        ],
        [
         "34",
         "E:\\Coding\\Python\\MachineLearning_SCFA\\data\\processed\\Session_1s_2025-09-19_14-45-02\\white\\screenshot_20250919_144509.png",
         "16.0",
         "55",
         "371"
        ],
        [
         "35",
         "E:\\Coding\\Python\\MachineLearning_SCFA\\data\\processed\\Session_1s_2025-09-19_14-45-02\\yellow\\screenshot_20250919_144509.png",
         "16.0",
         "53",
         "38"
        ],
        [
         "36",
         "E:\\Coding\\Python\\MachineLearning_SCFA\\data\\processed\\Session_1s_2025-09-19_14-45-02\\blue\\screenshot_20250919_144511.png",
         "19.0",
         "71",
         "114"
        ],
        [
         "37",
         "E:\\Coding\\Python\\MachineLearning_SCFA\\data\\processed\\Session_1s_2025-09-19_14-45-02\\darkblue\\screenshot_20250919_144511.png",
         "19.0",
         "73",
         "93"
        ],
        [
         "38",
         "E:\\Coding\\Python\\MachineLearning_SCFA\\data\\processed\\Session_1s_2025-09-19_14-45-02\\darkred\\screenshot_20250919_144511.png",
         "19.0",
         "66",
         "76"
        ],
        [
         "39",
         "E:\\Coding\\Python\\MachineLearning_SCFA\\data\\processed\\Session_1s_2025-09-19_14-45-02\\gray\\screenshot_20250919_144511.png",
         "19.0",
         "75",
         "667"
        ],
        [
         "40",
         "E:\\Coding\\Python\\MachineLearning_SCFA\\data\\processed\\Session_1s_2025-09-19_14-45-02\\orange\\screenshot_20250919_144511.png",
         "19.0",
         "72",
         "46"
        ],
        [
         "41",
         "E:\\Coding\\Python\\MachineLearning_SCFA\\data\\processed\\Session_1s_2025-09-19_14-45-02\\purple\\screenshot_20250919_144511.png",
         "19.0",
         "68",
         "41"
        ],
        [
         "42",
         "E:\\Coding\\Python\\MachineLearning_SCFA\\data\\processed\\Session_1s_2025-09-19_14-45-02\\red\\screenshot_20250919_144511.png",
         "19.0",
         "66",
         "8"
        ],
        [
         "43",
         "E:\\Coding\\Python\\MachineLearning_SCFA\\data\\processed\\Session_1s_2025-09-19_14-45-02\\teal\\screenshot_20250919_144511.png",
         "19.0",
         "70",
         "1455"
        ],
        [
         "44",
         "E:\\Coding\\Python\\MachineLearning_SCFA\\data\\processed\\Session_1s_2025-09-19_14-45-02\\turkis\\screenshot_20250919_144511.png",
         "19.0",
         "70",
         "290"
        ],
        [
         "45",
         "E:\\Coding\\Python\\MachineLearning_SCFA\\data\\processed\\Session_1s_2025-09-19_14-45-02\\violet\\screenshot_20250919_144511.png",
         "19.0",
         "68",
         "145"
        ],
        [
         "46",
         "E:\\Coding\\Python\\MachineLearning_SCFA\\data\\processed\\Session_1s_2025-09-19_14-45-02\\white\\screenshot_20250919_144511.png",
         "19.0",
         "73",
         "599"
        ],
        [
         "47",
         "E:\\Coding\\Python\\MachineLearning_SCFA\\data\\processed\\Session_1s_2025-09-19_14-45-02\\yellow\\screenshot_20250919_144511.png",
         "19.0",
         "69",
         "1067"
        ],
        [
         "48",
         "E:\\Coding\\Python\\MachineLearning_SCFA\\data\\processed\\Session_1s_2025-09-19_14-45-02\\blue\\screenshot_20250919_144513.png",
         "23.0",
         "88",
         "147"
        ],
        [
         "49",
         "E:\\Coding\\Python\\MachineLearning_SCFA\\data\\processed\\Session_1s_2025-09-19_14-45-02\\darkblue\\screenshot_20250919_144513.png",
         "23.0",
         "90",
         "52"
        ]
       ],
       "shape": {
        "columns": 4,
        "rows": 19134
       }
      },
      "text/html": [
       "<div>\n",
       "<style scoped>\n",
       "    .dataframe tbody tr th:only-of-type {\n",
       "        vertical-align: middle;\n",
       "    }\n",
       "\n",
       "    .dataframe tbody tr th {\n",
       "        vertical-align: top;\n",
       "    }\n",
       "\n",
       "    .dataframe thead th {\n",
       "        text-align: right;\n",
       "    }\n",
       "</style>\n",
       "<table border=\"1\" class=\"dataframe\">\n",
       "  <thead>\n",
       "    <tr style=\"text-align: right;\">\n",
       "      <th></th>\n",
       "      <th>path</th>\n",
       "      <th>time</th>\n",
       "      <th>power</th>\n",
       "      <th>area</th>\n",
       "    </tr>\n",
       "  </thead>\n",
       "  <tbody>\n",
       "    <tr>\n",
       "      <th>0</th>\n",
       "      <td>E:\\Coding\\Python\\MachineLearning_SCFA\\data\\pro...</td>\n",
       "      <td>9.0</td>\n",
       "      <td>13</td>\n",
       "      <td>0</td>\n",
       "    </tr>\n",
       "    <tr>\n",
       "      <th>1</th>\n",
       "      <td>E:\\Coding\\Python\\MachineLearning_SCFA\\data\\pro...</td>\n",
       "      <td>9.0</td>\n",
       "      <td>16</td>\n",
       "      <td>0</td>\n",
       "    </tr>\n",
       "    <tr>\n",
       "      <th>2</th>\n",
       "      <td>E:\\Coding\\Python\\MachineLearning_SCFA\\data\\pro...</td>\n",
       "      <td>9.0</td>\n",
       "      <td>9</td>\n",
       "      <td>0</td>\n",
       "    </tr>\n",
       "    <tr>\n",
       "      <th>3</th>\n",
       "      <td>E:\\Coding\\Python\\MachineLearning_SCFA\\data\\pro...</td>\n",
       "      <td>9.0</td>\n",
       "      <td>17</td>\n",
       "      <td>0</td>\n",
       "    </tr>\n",
       "    <tr>\n",
       "      <th>4</th>\n",
       "      <td>E:\\Coding\\Python\\MachineLearning_SCFA\\data\\pro...</td>\n",
       "      <td>9.0</td>\n",
       "      <td>14</td>\n",
       "      <td>0</td>\n",
       "    </tr>\n",
       "    <tr>\n",
       "      <th>...</th>\n",
       "      <td>...</td>\n",
       "      <td>...</td>\n",
       "      <td>...</td>\n",
       "      <td>...</td>\n",
       "    </tr>\n",
       "    <tr>\n",
       "      <th>19129</th>\n",
       "      <td>E:\\Coding\\Python\\MachineLearning_SCFA\\data\\pro...</td>\n",
       "      <td>NaN</td>\n",
       "      <td>984000</td>\n",
       "      <td>16422</td>\n",
       "    </tr>\n",
       "    <tr>\n",
       "      <th>19130</th>\n",
       "      <td>E:\\Coding\\Python\\MachineLearning_SCFA\\data\\pro...</td>\n",
       "      <td>NaN</td>\n",
       "      <td>0</td>\n",
       "      <td>695</td>\n",
       "    </tr>\n",
       "    <tr>\n",
       "      <th>19131</th>\n",
       "      <td>E:\\Coding\\Python\\MachineLearning_SCFA\\data\\pro...</td>\n",
       "      <td>NaN</td>\n",
       "      <td>0</td>\n",
       "      <td>436</td>\n",
       "    </tr>\n",
       "    <tr>\n",
       "      <th>19132</th>\n",
       "      <td>E:\\Coding\\Python\\MachineLearning_SCFA\\data\\pro...</td>\n",
       "      <td>NaN</td>\n",
       "      <td>306000</td>\n",
       "      <td>7602</td>\n",
       "    </tr>\n",
       "    <tr>\n",
       "      <th>19133</th>\n",
       "      <td>E:\\Coding\\Python\\MachineLearning_SCFA\\data\\pro...</td>\n",
       "      <td>NaN</td>\n",
       "      <td>347000</td>\n",
       "      <td>82885</td>\n",
       "    </tr>\n",
       "  </tbody>\n",
       "</table>\n",
       "<p>19134 rows × 4 columns</p>\n",
       "</div>"
      ],
      "text/plain": [
       "                                                    path  time   power   area\n",
       "0      E:\\Coding\\Python\\MachineLearning_SCFA\\data\\pro...   9.0      13      0\n",
       "1      E:\\Coding\\Python\\MachineLearning_SCFA\\data\\pro...   9.0      16      0\n",
       "2      E:\\Coding\\Python\\MachineLearning_SCFA\\data\\pro...   9.0       9      0\n",
       "3      E:\\Coding\\Python\\MachineLearning_SCFA\\data\\pro...   9.0      17      0\n",
       "4      E:\\Coding\\Python\\MachineLearning_SCFA\\data\\pro...   9.0      14      0\n",
       "...                                                  ...   ...     ...    ...\n",
       "19129  E:\\Coding\\Python\\MachineLearning_SCFA\\data\\pro...   NaN  984000  16422\n",
       "19130  E:\\Coding\\Python\\MachineLearning_SCFA\\data\\pro...   NaN       0    695\n",
       "19131  E:\\Coding\\Python\\MachineLearning_SCFA\\data\\pro...   NaN       0    436\n",
       "19132  E:\\Coding\\Python\\MachineLearning_SCFA\\data\\pro...   NaN  306000   7602\n",
       "19133  E:\\Coding\\Python\\MachineLearning_SCFA\\data\\pro...   NaN  347000  82885\n",
       "\n",
       "[19134 rows x 4 columns]"
      ]
     },
     "execution_count": 22,
     "metadata": {},
     "output_type": "execute_result"
    }
   ],
   "source": [
    "stats = DataLoader.LoadCNN(return_all=True)\n",
    "stats"
   ]
  },
  {
   "cell_type": "markdown",
   "id": "5ad0b14b",
   "metadata": {},
   "source": []
  },
  {
   "cell_type": "code",
   "execution_count": 60,
   "id": "64a58a10",
   "metadata": {},
   "outputs": [
    {
     "data": {
      "image/png": "[encoded data removed]",
      "text/plain": [
       "<Figure size 640x480 with 2 Axes>"
      ]
     },
     "metadata": {},
     "output_type": "display_data"
    }
   ],
   "source": [
    "stats[\"time_min\"] = stats[\"time\"]/60\n",
    "time_plot = stats[\"time_min\"].dropna()\n",
    "fig, ax1 = plt.subplots()\n",
    "\n",
    "ax1.hist(time_plot, bins=50, color=\"blue\", alpha=0.5,edgecolor=\"black\")\n",
    "ax1.set_xlim(left=0)\n",
    "ax1.set_xlabel(\"time in min\")\n",
    "ax1.set_ylabel(\"Picture count\", color=\"blue\")\n",
    "ax1.tick_params(axis='y', labelcolor=\"blue\")\n",
    "\n",
    "ax2 = ax1.twinx()\n",
    "ax2.scatter(stats[\"time_min\"], stats[\"power\"], color=\"red\", s=0.2)\n",
    "ax2.set_ylabel(\"Power\", color=\"red\")\n",
    "ax2.tick_params(axis='y', labelcolor=\"red\")\n",
    "plt.ylim(0)\n",
    "plt.title(\"Hist of time distribution & Power\")\n",
    "plt.show()"
   ]
  },
  {
   "cell_type": "code",
   "execution_count": null,
   "id": "9b9130e2",
   "metadata": {},
   "outputs": [],
   "source": []
  },
  {
   "cell_type": "code",
   "execution_count": null,
   "id": "f08943ea",
   "metadata": {},
   "outputs": [],
   "source": []
  }
 ],
 "metadata": {
  "kernelspec": {
   "display_name": "MachineLearning_SC",
   "language": "python",
   "name": "python3"
  },
  "language_info": {
   "codemirror_mode": {
    "name": "ipython",
    "version": 3
   },
   "file_extension": ".py",
   "mimetype": "text/x-python",
   "name": "python",
   "nbconvert_exporter": "python",
   "pygments_lexer": "ipython3",
   "version": "3.11.13"
  }
 },
 "nbformat": 4,
 "nbformat_minor": 5
}
