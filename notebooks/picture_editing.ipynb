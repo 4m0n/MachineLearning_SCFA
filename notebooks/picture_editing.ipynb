{
 "cells": [
  {
   "cell_type": "markdown",
   "id": "c497f5de",
   "metadata": {},
   "source": [
    "## Importe"
   ]
  },
  {
   "cell_type": "code",
   "execution_count": 1,
   "id": "73d715d2",
   "metadata": {},
   "outputs": [],
   "source": [
    "import cv2\n",
    "import numpy as np\n",
    "import os"
   ]
  },
  {
   "cell_type": "markdown",
   "id": "976cc1a8",
   "metadata": {},
   "source": [
    "## Bild Laden"
   ]
  },
  {
   "cell_type": "code",
   "execution_count": 2,
   "id": "c3af8900",
   "metadata": {},
   "outputs": [],
   "source": [
    "class Colors:\n",
    "    @staticmethod\n",
    "    def red():\n",
    "        return (239, 8, 8)\n",
    "\n",
    "    @staticmethod\n",
    "    def darkred():\n",
    "        return (148, 20, 33)\n",
    "\n",
    "    @staticmethod\n",
    "    def orange():\n",
    "        return (255, 134, 57)\n",
    "\n",
    "    @staticmethod\n",
    "    def darkorange():\n",
    "        return (181, 101, 24)\n",
    "\n",
    "    @staticmethod\n",
    "    def darkgold():\n",
    "        return (165, 150, 0)\n",
    "\n",
    "    @staticmethod\n",
    "    def yellow():\n",
    "        return (255, 251, 0)\n",
    "\n",
    "    @staticmethod\n",
    "    def lime():\n",
    "        return (156, 219, 0)\n",
    "\n",
    "    @staticmethod\n",
    "    def green():\n",
    "        return (66, 190, 66)\n",
    "\n",
    "    @staticmethod\n",
    "    def darkgreen():\n",
    "        return (41, 138, 82)\n",
    "\n",
    "    @staticmethod\n",
    "    def teal():\n",
    "        return (41, 77, 74)\n",
    "\n",
    "    @staticmethod\n",
    "    def darkteal():\n",
    "        return (41, 77, 74)\n",
    "\n",
    "    @staticmethod\n",
    "    def blue():\n",
    "        return (66, 109, 239)\n",
    "\n",
    "    @staticmethod\n",
    "    def darkblue():\n",
    "        return (41, 40, 231)\n",
    "\n",
    "    @staticmethod\n",
    "    def purple():\n",
    "        return (90, 0, 165)\n",
    "\n",
    "    @staticmethod\n",
    "    def violet():\n",
    "        return (148, 97, 255)\n",
    "\n",
    "    @staticmethod\n",
    "    def turkis():\n",
    "        return (99, 255, 206)\n",
    "\n",
    "    @staticmethod\n",
    "    def white():\n",
    "        return (255, 255, 255)\n",
    "\n",
    "    @staticmethod\n",
    "    def gray():\n",
    "        return (99, 109, 123)\n",
    "\n",
    "    @staticmethod\n",
    "    def magenta():\n",
    "        return (255, 138, 255)\n",
    "\n",
    "    @staticmethod\n",
    "    def pink():\n",
    "        return (255, 48, 255)"
   ]
  },
  {
   "cell_type": "markdown",
   "id": "5cd2add1",
   "metadata": {},
   "source": [
    "### Beliebige Farbe extrahieren"
   ]
  },
  {
   "cell_type": "markdown",
   "id": "b8371c16",
   "metadata": {},
   "source": [
    "### Alle Farben einzeln extrahieren + löschen was zu wohl nicht im spiel vorkommt"
   ]
  },
  {
   "cell_type": "code",
   "execution_count": 3,
   "id": "881eee6b",
   "metadata": {},
   "outputs": [],
   "source": [
    "\n",
    "def player_color(picture, threshold=20,min_contour_area=5,output_path=\"output.png\",result_bgr=None):\n",
    "    \n",
    "    gray = cv2.cvtColor(picture, cv2.COLOR_BGR2GRAY)\n",
    "    _, binary = cv2.threshold(gray, threshold, 255, cv2.THRESH_BINARY)\n",
    "    contours, _ = cv2.findContours(binary, cv2.RETR_EXTERNAL, cv2.CHAIN_APPROX_SIMPLE)\n",
    "\n",
    "    shape_count = 0\n",
    "    for contour in contours:\n",
    "        area = cv2.contourArea(contour)\n",
    "        if area > min_contour_area:\n",
    "            shape_count += 1\n",
    "            cv2.drawContours(picture, [contour], -1, (0, 255, 0), 2)\n",
    "    output_path = output_path.replace(\".png\", f\"_{shape_count}.png\")\n",
    "    if shape_count > 0:\n",
    "        cv2.imwrite(output_path, result_bgr)\n",
    "    \n",
    "\n",
    "def filter_red_pixels_cv2(input_path, output_path, target_color, tolerance=50):\n",
    "    \"\"\"\n",
    "    OpenCV Version für rote Pixel Filterung\n",
    "    \"\"\"\n",
    "    # Bild laden\n",
    "    img = cv2.imread(input_path)\n",
    "\n",
    "    img = cv2.cvtColor(img, cv2.COLOR_BGR2RGB)  \n",
    "    target_r, target_g, target_b = target_color\n",
    "    \n",
    "    color_mask = (\n",
    "        (np.abs(img[:, :, 0] - target_r) < tolerance) &  # Rot\n",
    "        (np.abs(img[:, :, 1] - target_g) < tolerance) &  # Grün\n",
    "        (np.abs(img[:, :, 2] - target_b) < tolerance)    # Blau\n",
    "    )\n",
    "    \n",
    "    # Ergebnis erstellen\n",
    "    result = np.zeros_like(img)\n",
    "    result[color_mask] = img[color_mask]\n",
    "    \n",
    "    # Speichern\n",
    "    result_bgr = cv2.cvtColor(result, cv2.COLOR_RGB2BGR)\n",
    "    #player_color(result, threshold=20,min_contour_area=500,output_path=output_path,result_bgr=result_bgr)\n",
    "    cv2.imwrite(output_path, result_bgr)\n",
    "    \n",
    "    print(f\"OpenCV: Bild gespeichert: {output_path}\")\n"
   ]
  },
  {
   "cell_type": "code",
   "execution_count": 4,
   "id": "1193e560",
   "metadata": {},
   "outputs": [
    {
     "name": "stdout",
     "output_type": "stream",
     "text": [
      "OpenCV: Bild gespeichert: pictures/pic_blue.png\n",
      "OpenCV: Bild gespeichert: pictures/pic_darkblue.png\n",
      "OpenCV: Bild gespeichert: pictures/pic_darkgold.png\n",
      "OpenCV: Bild gespeichert: pictures/pic_darkgreen.png\n",
      "OpenCV: Bild gespeichert: pictures/pic_darkorange.png\n",
      "OpenCV: Bild gespeichert: pictures/pic_darkred.png\n",
      "OpenCV: Bild gespeichert: pictures/pic_darkteal.png\n",
      "OpenCV: Bild gespeichert: pictures/pic_gray.png\n",
      "OpenCV: Bild gespeichert: pictures/pic_green.png\n",
      "OpenCV: Bild gespeichert: pictures/pic_lime.png\n",
      "OpenCV: Bild gespeichert: pictures/pic_magenta.png\n",
      "OpenCV: Bild gespeichert: pictures/pic_orange.png\n",
      "OpenCV: Bild gespeichert: pictures/pic_pink.png\n",
      "OpenCV: Bild gespeichert: pictures/pic_purple.png\n",
      "OpenCV: Bild gespeichert: pictures/pic_red.png\n",
      "OpenCV: Bild gespeichert: pictures/pic_teal.png\n",
      "OpenCV: Bild gespeichert: pictures/pic_turkis.png\n",
      "OpenCV: Bild gespeichert: pictures/pic_violet.png\n",
      "OpenCV: Bild gespeichert: pictures/pic_white.png\n",
      "OpenCV: Bild gespeichert: pictures/pic_yellow.png\n"
     ]
    }
   ],
   "source": [
    "colors = Colors()\n",
    "\n",
    "for func_name in dir(colors):\n",
    "    if func_name.startswith(\"__\"):\n",
    "        continue\n",
    "    func = getattr(colors, func_name)\n",
    "    filter_red_pixels_cv2(r\"E:\\Coding\\Python\\MachineLearning_SC\\notebooks\\pictures\\screenshot_20250911_025258.png\", f\"pictures/pic_{func_name}.png\",\n",
    "                      target_color=func(), tolerance=40)"
   ]
  },
  {
   "cell_type": "code",
   "execution_count": 5,
   "id": "87b8a221",
   "metadata": {},
   "outputs": [],
   "source": [
    "def sum_colors(output_path):\n",
    "    \"\"\"\n",
    "    Summiert die RGB-Werte jedes Pixels in einem Bild und speichert das Ergebnis.\n",
    "    \"\"\"\n",
    "    \n",
    "    # Alle Dateien im Ordner durchlaufen\n",
    "    files = []\n",
    "    for file_name in os.listdir(output_path):\n",
    "        if file_name.startswith(\"pic\") and file_name.endswith(('.png', '.jpg', '.jpeg')):\n",
    "            final_path = os.path.join(output_path, file_name)\n",
    "            img = cv2.imread(final_path)\n",
    "            files.append(img)\n",
    "            \n",
    "    \n",
    "    \n",
    "    final = np.zeros_like(files[0])\n",
    "    for i in range(len(files)):        \n",
    "        final = cv2.add(final, files[i])        \n",
    "            \n",
    "    cv2.imwrite(\"pictures/sum_colors.png\", final)\n",
    "            "
   ]
  },
  {
   "cell_type": "code",
   "execution_count": 6,
   "id": "5b80d0ce",
   "metadata": {},
   "outputs": [],
   "source": [
    "sum_colors(r\"pictures\")"
   ]
  },
  {
   "cell_type": "markdown",
   "id": "3fe749b9",
   "metadata": {},
   "source": [
    "### Konturen erkennen und filtern"
   ]
  },
  {
   "cell_type": "code",
   "execution_count": 7,
   "id": "789ef19b",
   "metadata": {},
   "outputs": [
    {
     "data": {
      "text/plain": [
       "True"
      ]
     },
     "execution_count": 7,
     "metadata": {},
     "output_type": "execute_result"
    }
   ],
   "source": [
    "import cv2\n",
    "import numpy as np\n",
    "\n",
    "img = cv2.imread('pictures/sum_colors.png')\n",
    "gray = cv2.cvtColor(img, cv2.COLOR_BGR2GRAY)\n",
    "\n",
    "# Schwellenwert anwenden, um ein Binärbild zu erhalten (Spieler vs. Hintergrund)\n",
    "# Der Schwellenwert (z.B. 50) muss eventuell angepasst werden!\n",
    "_, thresh = cv2.threshold(gray, 50, 255, cv2.THRESH_BINARY)\n",
    "\n",
    "contours, _ = cv2.findContours(thresh, cv2.RETR_EXTERNAL, cv2.CHAIN_APPROX_SIMPLE)\n",
    "\n",
    "output_img = np.zeros_like(img)\n",
    "\n",
    "for contour in contours:\n",
    "    \n",
    "    area = cv2.contourArea(contour)\n",
    "\n",
    "    if 10 < area < 5000: # erkannte kontur größe -> anpassen\n",
    "        cv2.drawContours(output_img, [contour], -1, (255, 255, 255), cv2.FILLED)\n",
    "        bounding_box = cv2.boundingRect(contour)\n",
    "        x, y, w, h = bounding_box\n",
    "        output_img[y:y+h, x:x+w] = img[y:y+h, x:x+w] \n",
    "        \n",
    "\n",
    "cv2.imwrite(\"pictures/konturen.png\", output_img)"
   ]
  },
  {
   "cell_type": "markdown",
   "id": "d2dc2543",
   "metadata": {},
   "source": [
    "### Morphologische Operationen"
   ]
  },
  {
   "cell_type": "code",
   "execution_count": 8,
   "id": "b0c811f0",
   "metadata": {},
   "outputs": [
    {
     "data": {
      "text/plain": [
       "True"
      ]
     },
     "execution_count": 8,
     "metadata": {},
     "output_type": "execute_result"
    }
   ],
   "source": [
    "import cv2\n",
    "import numpy as np\n",
    "\n",
    "img = cv2.imread('pictures/sum_colors.png')\n",
    "gray = cv2.cvtColor(img, cv2.COLOR_BGR2GRAY)\n",
    "_, thresh = cv2.threshold(gray, 10, 50, cv2.THRESH_BINARY) # Wieder Binärbild\n",
    "\n",
    "# Erosion: Macht helle Bereiche kleiner, entfernt kleine Rauschen\n",
    "kernel = np.ones((2,2),np.uint8) # Größe des Kernels anpassen\n",
    "eroded = cv2.erode(thresh, kernel, iterations = 1)\n",
    "\n",
    "# Dilatation: Macht helle Bereiche größer (kann nützlich sein, um Spieler wieder zu verbinden)\n",
    "dilated = cv2.dilate(eroded, kernel, iterations = 1)\n",
    "\n",
    "# Opening (Erosion gefolgt von Dilatation) ist gut, um kleine Objekte zu entfernen\n",
    "opening = cv2.morphologyEx(thresh, cv2.MORPH_OPEN, kernel)\n",
    "\n",
    "# Und dann das Ergebnis wieder auf das Originalbild anwenden\n",
    "res = cv2.bitwise_and(img, img, mask=opening)\n",
    "\n",
    "\n",
    "cv2.imwrite(\"pictures/morph.png\", res)"
   ]
  }
 ],
 "metadata": {
  "kernelspec": {
   "display_name": "MachineLearning_SC",
   "language": "python",
   "name": "python3"
  },
  "language_info": {
   "codemirror_mode": {
    "name": "ipython",
    "version": 3
   },
   "file_extension": ".py",
   "mimetype": "text/x-python",
   "name": "python",
   "nbconvert_exporter": "python",
   "pygments_lexer": "ipython3",
   "version": "3.11.13"
  }
 },
 "nbformat": 4,
 "nbformat_minor": 5
}
